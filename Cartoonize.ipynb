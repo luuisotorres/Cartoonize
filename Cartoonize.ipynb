{
 "cells": [
  {
   "cell_type": "code",
   "execution_count": 1,
   "id": "68fb1972",
   "metadata": {},
   "outputs": [],
   "source": [
    "import cv2\n",
    "import numpy as np\n",
    "from tkinter.filedialog import *"
   ]
  },
  {
   "cell_type": "code",
   "execution_count": 3,
   "id": "9c75d742",
   "metadata": {},
   "outputs": [],
   "source": [
    "img = cv2.imread(\"dog.jpg\")\n",
    "\n",
    "grey = cv2.cvtColor(img, cv2.COLOR_BGR2GRAY)\n",
    "grey = cv2.medianBlur(grey, 5)\n",
    "edges = cv2.adaptiveThreshold(grey, 255, cv2.ADAPTIVE_THRESH_MEAN_C, cv2.THRESH_BINARY, 9, 9)\n",
    "\n",
    "#cartoonize\n",
    "color = cv2.bilateralFilter(img, 9, 250, 250)\n",
    "cartoon = cv2.bitwise_and(color, color, mask = edges)\n",
    "\n",
    "cv2.imshow(\"Image\", img)\n",
    "cv2.imshow(\"Cartoon\", cartoon)\n",
    "\n",
    "#save\n",
    "cv2.imwrite(\"cartoon.jpg\", cartoon)\n",
    "cv2.waitKey(0)\n",
    "cv2.destroyAllWindows()"
   ]
  },
  {
   "cell_type": "code",
   "execution_count": null,
   "id": "10868274",
   "metadata": {},
   "outputs": [],
   "source": []
  }
 ],
 "metadata": {
  "kernelspec": {
   "display_name": "Python 3",
   "language": "python",
   "name": "python3"
  },
  "language_info": {
   "codemirror_mode": {
    "name": "ipython",
    "version": 3
   },
   "file_extension": ".py",
   "mimetype": "text/x-python",
   "name": "python",
   "nbconvert_exporter": "python",
   "pygments_lexer": "ipython3",
   "version": "3.8.8"
  }
 },
 "nbformat": 4,
 "nbformat_minor": 5
}
